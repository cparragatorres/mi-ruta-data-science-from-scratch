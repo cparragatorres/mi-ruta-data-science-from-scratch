{
 "cells": [
  {
   "cell_type": "markdown",
   "id": "928ba597",
   "metadata": {},
   "source": [
    "# Localizar los conectores clave"
   ]
  },
  {
   "cell_type": "code",
   "execution_count": 2,
   "id": "0a2d2d6d",
   "metadata": {},
   "outputs": [],
   "source": [
    "'''lista de usuarios, cada uno representado por un dict\n",
    "que contiene su id (que es un número) y su name (que, en\n",
    "una de esas fabulosas conjunciones planetarias, concuerda\n",
    "con su id)'''\n",
    "users = [\n",
    "{ \"id\": 0, \"name\": \"Hero\" },\n",
    "{ \"id\": 1, \"name\": \"Dunn\" },\n",
    "{ \"id\": 2, \"name\": \"Sue\" },\n",
    "{ \"id\": 3, \"name\": \"Chi\" },\n",
    "{ \"id\": 4, \"name\": \"Thor\" },\n",
    "{ \"id\": 5, \"name\": \"Clive\" },\n",
    "{ \"id\": 6, \"name\": \"Hicks\" },\n",
    "{ \"id\": 7, \"name\": \"Devin\" },\n",
    "{ \"id\": 8, \"name\": \"Kate\" },\n",
    "{ \"id\": 9, \"name\": \"Klein\" }\n",
    "]"
   ]
  },
  {
   "cell_type": "code",
   "execution_count": 3,
   "id": "602dd21a",
   "metadata": {},
   "outputs": [],
   "source": [
    "'''los datos de “amistad” (friendship), están representados como\n",
    "una lista de pares de identificadores'''\n",
    "friendship_pairs = [(0, 1), (0, 2), (1, 2), (1, 3), (2, 3), (3, 4),\n",
    "(4, 5), (5, 6), (5, 7), (6, 8), (7, 8), (8, 9)]"
   ]
  },
  {
   "cell_type": "markdown",
   "id": "14b22909",
   "metadata": {},
   "source": [
    "\n",
    "<img src=\"../assets/figura1.1.png\" alt=\"La red de DataSciencester\" width=\"400\"/>\n"
   ]
  },
  {
   "cell_type": "code",
   "execution_count": 8,
   "id": "3807e111",
   "metadata": {},
   "outputs": [
    {
     "data": {
      "text/plain": [
       "{0: [1, 2],\n",
       " 1: [0, 2, 3],\n",
       " 2: [0, 1, 3],\n",
       " 3: [1, 2, 4],\n",
       " 4: [3, 5],\n",
       " 5: [4, 6, 7],\n",
       " 6: [5, 8],\n",
       " 7: [5, 8],\n",
       " 8: [6, 7, 9],\n",
       " 9: [8]}"
      ]
     },
     "execution_count": 8,
     "metadata": {},
     "output_type": "execute_result"
    }
   ],
   "source": [
    "# Inicializar el dict con una lista vacía para cada id de usuario:\n",
    "friendships = {user[\"id\"]: [] for user in users}\n",
    "# Y pasar por todos los pares de amistad para llenarlo:\n",
    "for i, j in friendship_pairs:\n",
    "  friendships[i].append(j) # Añadir j como un amigo del usuario i\n",
    "  friendships[j].append(i) # Añadir i como un amigo del usuario j\n",
    "\n",
    "friendships"
   ]
  },
  {
   "cell_type": "code",
   "execution_count": null,
   "id": "c00d35a9",
   "metadata": {},
   "outputs": [
    {
     "data": {
      "text/plain": [
       "24"
      ]
     },
     "execution_count": 9,
     "metadata": {},
     "output_type": "execute_result"
    }
   ],
   "source": [
    "def number_of_friends(user):\n",
    "  '''Cómo cuántos amigos tiene cada usuario?'''\n",
    "  user_id = user[\"id\"]\n",
    "  friend_ids = friendships[user_id]\n",
    "  return len(friend_ids)\n",
    "\n",
    "total_connections = sum(number_of_friends(user)\n",
    "for user in users) # 24\n",
    "total_connections"
   ]
  },
  {
   "cell_type": "code",
   "execution_count": null,
   "id": "39cfa0b0",
   "metadata": {},
   "outputs": [
    {
     "data": {
      "text/plain": [
       "(10, 2.4)"
      ]
     },
     "execution_count": 14,
     "metadata": {},
     "output_type": "execute_result"
    }
   ],
   "source": [
    "'''Cuántos usuarios hay? y cuántas conexiones de amistad hay en promedio?'''\n",
    "num_users = len(users)                            # longitud de la lista de usuarios\n",
    "avg_connections = total_connections / num_users   # 24 / 10 == 2,4\n",
    "'''Resultados'''\n",
    "num_users, avg_connections"
   ]
  },
  {
   "cell_type": "code",
   "execution_count": 17,
   "id": "0da7dfbe",
   "metadata": {},
   "outputs": [
    {
     "data": {
      "text/plain": [
       "[(1, 3),\n",
       " (2, 3),\n",
       " (3, 3),\n",
       " (5, 3),\n",
       " (8, 3),\n",
       " (0, 2),\n",
       " (4, 2),\n",
       " (6, 2),\n",
       " (7, 2),\n",
       " (9, 1)]"
      ]
     },
     "execution_count": 17,
     "metadata": {},
     "output_type": "execute_result"
    }
   ],
   "source": [
    "'''la mayor cantidad de amigos'''\n",
    "# Crea una lista (user_id, number_of_friends).\n",
    "num_friends_by_id = [\n",
    "  (user[\"id\"], number_of_friends(user))\n",
    "  for user in users\n",
    "  ]\n",
    "\n",
    "num_friends_by_id.sort(             # Ordena la lista\n",
    "key=lambda id_and_friends:\n",
    "  id_and_friends[1],                # por num_friends\n",
    "  reverse=True                      # del mayor al menor\n",
    "  )\n",
    "# Cada par es (user_id, num_friends):\n",
    "# [(1, 3), (2, 3), (3, 3), (5, 3), (8, 3),\n",
    "# (0, 2), (4, 2), (6, 2), (7, 2), (9, 1)]\n",
    "num_friends_by_id\n"
   ]
  },
  {
   "cell_type": "markdown",
   "id": "3f96661c",
   "metadata": {},
   "source": [
    "\n",
    "<img src=\"../assets/figura1.2.png\" alt=\"La red de DataSciencester\" width=\"400\"/>\n"
   ]
  },
  {
   "cell_type": "markdown",
   "id": "8829c578",
   "metadata": {},
   "source": [
    "# Científicos de datos que podría conocer"
   ]
  },
  {
   "cell_type": "code",
   "execution_count": 21,
   "id": "3b5f3c39",
   "metadata": {},
   "outputs": [
    {
     "data": {
      "text/plain": [
       "[0, 2, 3, 0, 1, 3]"
      ]
     },
     "execution_count": 21,
     "metadata": {},
     "output_type": "execute_result"
    }
   ],
   "source": [
    "'''Sugeridor “Científicos de datos que podría conocer”.'''\n",
    "'''(Sugerir que los usuarios podrían conocer a los amigos\n",
    "de sus amigos)'''\n",
    "def foaf_ids_bad(user):\n",
    "  \"\"\"foaf is short for \"friend of a friend\" \"\"\"\n",
    "  return [foaf_id\n",
    "    for friend_id in friendships[user[\"id\"]]\n",
    "    for foaf_id in friendships[friend_id]]\n",
    "\n",
    "foaf_ids_bad(users[0])      #Hero\n",
    "# [0, 2, 3, 0, 1, 3]\n",
    "\n",
    "'''Incluye el usuario 0 dos veces, ya que Hero es de hecho amigo de sus dos\n",
    "amigos. Incluye los usuarios 1 y 2, aunque ambos ya son amigos de Hero. Y\n",
    "también incluye el usuario 3 dos veces, ya que se puede llegar hasta Chi a\n",
    "través de dos amigos distintos:'''\n"
   ]
  },
  {
   "cell_type": "code",
   "execution_count": 22,
   "id": "2883e199",
   "metadata": {},
   "outputs": [
    {
     "name": "stdout",
     "output_type": "stream",
     "text": [
      "Counter({0: 2, 5: 1})\n"
     ]
    }
   ],
   "source": [
    "'''contador de amigos mutuos. Y exclusión de\n",
    "gente ya conocida por el usuario'''\n",
    "from collections import Counter           # no cargado inicialmente\n",
    "\n",
    "def friends_of_friends(user):\n",
    "  user_id = user[\"id\"]\n",
    "  return Counter(\n",
    "    foaf_id\n",
    "    for friend_id in friendships[user_id] # Para cada uno de mis amigos,\n",
    "    for foaf_id in friendships[friend_id] # encuentra sus amigos\n",
    "    if foaf_id != user_id                 # que no son yo\n",
    "    and foaf_id not in                    # y no son mis amigos\n",
    "    friendships[user_id]\n",
    "\n",
    "  )\n",
    "\n",
    "print(friends_of_friends(users[3]))       # Contador({\"id\": \"Nro_amigos_mutuos\"})\n",
    "# Contador({0: 2, 5: 1})"
   ]
  },
  {
   "cell_type": "code",
   "execution_count": 24,
   "id": "ae3acfd9",
   "metadata": {},
   "outputs": [],
   "source": [
    "'''conociendo amigos con intereses comunes'''\n",
    "interests = [\n",
    "  (0, \"Hadoop\"),          (0, \"Big Data\"),                (0, \"HBase\"),         (0, \"Java\"),\n",
    "  (0, \"Spark\"),           (0, \"Storm\"),                   (0, \"Cassandra\"),\n",
    "  (1, \"NoSQL\"),           (1, \"MongoDB\"),                 (1, \"Cassandra\"),     (1, \"HBase\"),\n",
    "  (1, \"Postgres\"),        (2, \"Python\"),                  (2, \"scikit-learn\"),  (2, \"scipy\"),\n",
    "  (2, \"numpy\"),           (2, \"statsmodels\"),             (2, \"pandas\"),        (3, \"R\"),     (3, \"Python\"),\n",
    "  (3, \"statistics\"),      (3, \"regression\"),              (3, \"probability\"),\n",
    "  (4, \"machine learning\"),(4, \"regression\"),              (4, \"decision trees\"),\n",
    "  (4, \"libsvm\"),          (5, \"Python\"),                  (5, \"R\"),             (5, \"Java\"),  (5, \"C++\"),\n",
    "  (5, \"Haskell\"),         (5, \"programming languages\"),   (6, \"statistics\"),\n",
    "  (6, \"probability\"),     (6, \"mathematics\"),             (6, \"theory\"),\n",
    "  (7, \"machine learning\"),(7, \"scikit-learn\"),            (7, \"Mahout\"),\n",
    "  (7, \"neural networks\"), (8, \"neural networks\"),         (8, \"deep learning\"),\n",
    "  (8, \"Big Data\"),        (8, \"artificial intelligence\"), (9, \"Hadoop\"),\n",
    "  (9, \"Java\"),            (9, \"MapReduce\"),               (9, \"Big Data\")\n",
    "]"
   ]
  },
  {
   "cell_type": "code",
   "execution_count": 25,
   "id": "c4a9eed2",
   "metadata": {},
   "outputs": [
    {
     "data": {
      "text/plain": [
       "[2, 3, 5]"
      ]
     },
     "execution_count": 25,
     "metadata": {},
     "output_type": "execute_result"
    }
   ],
   "source": [
    "def data_scientists_who_like(target_interest):\n",
    "  \"\"\"Encuentra los ids de todos los usuarios a quienes tengan el mismo interés.\"\"\"\n",
    "  return [\n",
    "      user_id\n",
    "      for user_id, user_interest in interests\n",
    "      if user_interest == target_interest\n",
    "    ]\n",
    "\n",
    "data_scientists_who_like(\"Python\") # [2, 3, 5, 7]\n"
   ]
  },
  {
   "cell_type": "code",
   "execution_count": 28,
   "id": "aab48f7b",
   "metadata": {},
   "outputs": [
    {
     "name": "stdout",
     "output_type": "stream",
     "text": [
      "Counter({9: 3, 1: 2, 8: 1, 5: 1})\n"
     ]
    }
   ],
   "source": [
    "'''Si tenemos muchos usuarios e intereses (o si simplemente\n",
    "queremos hacer muchas búsquedas), es probablemente mejor que nos\n",
    "dediquemos a crear un índice de intereses a usuarios'''\n",
    "from collections import defaultdict\n",
    "# Las claves son intereses, los valores son listas de user_ids con ese interés\n",
    "user_ids_by_interest = defaultdict(list)\n",
    "for user_id, interest in interests:\n",
    "  user_ids_by_interest[interest].append(user_id)\n",
    "\n",
    "'Y otro de usuarios a intereses:'\n",
    "# Las claves son user_ids, los valores son listas de intereses para ese user_id.\n",
    "interests_by_user_id = defaultdict(list)\n",
    "for user_id, interest in interests:\n",
    "  interests_by_user_id[user_id].append(interest)\n",
    "\n",
    "'''Ahora podemos encontrar los usuarios que comparten un interés\n",
    "con un usuario dado, sin tener que recorrer toda la lista de intereses.'''\n",
    "def most_common_interests_with(user):\n",
    "  return Counter(\n",
    "    interested_user_id\n",
    "    for interest in interests_by_user_id[user[\"id\"]]\n",
    "    for interested_user_id in user_ids_by_interest[interest]\n",
    "    if interested_user_id != user[\"id\"]\n",
    "  )\n",
    "\n",
    "print(most_common_interests_with(users[0])) # Hero"
   ]
  },
  {
   "cell_type": "markdown",
   "id": "714b2d96",
   "metadata": {},
   "source": [
    "# Salarios y experiencia"
   ]
  },
  {
   "cell_type": "code",
   "execution_count": 29,
   "id": "8534d8e1",
   "metadata": {},
   "outputs": [
    {
     "name": "stderr",
     "output_type": "stream",
     "text": [
      "Matplotlib is building the font cache; this may take a moment.\n"
     ]
    },
    {
     "data": {
      "image/png": "[encoded data removed]",
      "text/plain": [
       "<Figure size 640x480 with 1 Axes>"
      ]
     },
     "metadata": {},
     "output_type": "display_data"
    }
   ],
   "source": [
    "salaries_and_tenures = [(83000, 8.7), (88000, 8.1),\n",
    "                        (48000, 0.7), (76000, 6),\n",
    "                        (69000, 6.5), (76000, 7.5),\n",
    "                        (60000, 2.5), (83000, 10),\n",
    "                        (48000, 1.9), (63000, 4.2)\n",
    "                        ]\n",
    "# trazar los datos en un grafico de dispersión\n",
    "import matplotlib.pyplot as plt\n",
    "import numpy as np\n",
    "salaries, tenures = zip(*salaries_and_tenures)  # Desempaquetar las tuplas\n",
    "plt.scatter(tenures, salaries)\n",
    "plt.title(\"Salarios y experiencia\")\n",
    "plt.xlabel(\"Años de experiencia\")\n",
    "plt.ylabel(\"Salario (USD)\")\n",
    "plt.show()\n"
   ]
  },
  {
   "cell_type": "code",
   "execution_count": 39,
   "id": "fdced3b3",
   "metadata": {},
   "outputs": [
    {
     "name": "stdout",
     "output_type": "stream",
     "text": [
      "promedio de salarios por antigüedad:\n"
     ]
    },
    {
     "data": {
      "text/plain": [
       "{8.7: 83000.0,\n",
       " 8.1: 88000.0,\n",
       " 0.7: 48000.0,\n",
       " 6: 76000.0,\n",
       " 6.5: 69000.0,\n",
       " 7.5: 76000.0,\n",
       " 2.5: 60000.0,\n",
       " 10: 83000.0,\n",
       " 1.9: 48000.0,\n",
       " 4.2: 63000.0}"
      ]
     },
     "execution_count": 39,
     "metadata": {},
     "output_type": "execute_result"
    }
   ],
   "source": [
    "# Las claves son años, los valores son listas de los salarios por antigüedad.\n",
    "salary_by_tenure = defaultdict(list)\n",
    "for salary, tenure in salaries_and_tenures:\n",
    "  salary_by_tenure[tenure].append(salary)\n",
    "  # Las claves son años, cada valor es el salario medio para dicha antigüedad.\n",
    "  average_salary_by_tenure = {\n",
    "    tenure: sum(salaries) / len(salaries)\n",
    "    for tenure, salaries in salary_by_tenure.items()\n",
    "  }\n",
    "print('promedio de salarios por antigüedad:')\n",
    "average_salary_by_tenure\n"
   ]
  },
  {
   "cell_type": "code",
   "execution_count": 40,
   "id": "af3d6f75",
   "metadata": {},
   "outputs": [
    {
     "name": "stdout",
     "output_type": "stream",
     "text": [
      "Salarios por bucket de antigüedad:\n"
     ]
    },
    {
     "data": {
      "text/plain": [
       "defaultdict(list,\n",
       "            {'more than five': [83000, 88000, 76000, 69000, 76000, 83000],\n",
       "             'less than two': [48000, 48000],\n",
       "             'between two and five': [60000, 63000]})"
      ]
     },
     "execution_count": 40,
     "metadata": {},
     "output_type": "execute_result"
    }
   ],
   "source": [
    "'Poniendolos por años de antigüedad en un bucket'\n",
    "def tenure_bucket(tenure):\n",
    "  if tenure < 2:\n",
    "    return \"less than two\"\n",
    "  elif tenure < 5:\n",
    "    return \"between two and five\"\n",
    "  else:\n",
    "    return \"more than five\"\n",
    "\n",
    "'Agrupando los salarios por bucket de antigüedad'\n",
    "# Las claves son buckets de años de antigüedad, los valores son listas de salarios para bucket\n",
    "salary_by_tenure_bucket = defaultdict(list)\n",
    "for salary, tenure in salaries_and_tenures:\n",
    "  bucket = tenure_bucket(tenure)\n",
    "  salary_by_tenure_bucket[bucket].append(salary)\n",
    "print('Salarios por bucket de antigüedad:')\n",
    "salary_by_tenure_bucket"
   ]
  },
  {
   "cell_type": "code",
   "execution_count": 42,
   "id": "0fd8305c",
   "metadata": {},
   "outputs": [
    {
     "data": {
      "text/plain": [
       "{'more than five': 79166.66666666667,\n",
       " 'less than two': 48000.0,\n",
       " 'between two and five': 61500.0}"
      ]
     },
     "execution_count": 42,
     "metadata": {},
     "output_type": "execute_result"
    }
   ],
   "source": [
    "'''Calculando el salario medio para cada grupo'''\n",
    "# Las claves son buckets de años de antigüedad, los valores son el salario medio para bucket\n",
    "average_salary_by_bucket = {\n",
    "tenure_bucket: sum(salaries) / len(salaries)\n",
    "for tenure_bucket, salaries in salary_by_tenure_bucket.items()\n",
    "}\n",
    "average_salary_by_bucket"
   ]
  },
  {
   "cell_type": "markdown",
   "id": "edec4189",
   "metadata": {},
   "source": [
    "# Cuentas de pago"
   ]
  },
  {
   "cell_type": "code",
   "execution_count": 43,
   "id": "ce21f655",
   "metadata": {},
   "outputs": [
    {
     "data": {
      "text/plain": [
       "'paid'"
      ]
     },
     "execution_count": 43,
     "metadata": {},
     "output_type": "execute_result"
    }
   ],
   "source": [
    "def predict_paid_or_unpaid(years_experience):\n",
    "  if years_experience < 3.0:\n",
    "    return \"paid\"\n",
    "  elif years_experience < 8.5:\n",
    "    return \"unpaid\"\n",
    "  else:\n",
    "    return \"paid\"\n",
    "\n",
    "predict_paid_or_unpaid(2.5)  # \"paid\""
   ]
  },
  {
   "cell_type": "markdown",
   "id": "b5d23e4f",
   "metadata": {},
   "source": [
    "# Temas de interés"
   ]
  },
  {
   "cell_type": "code",
   "execution_count": 44,
   "id": "ca26ffe2",
   "metadata": {},
   "outputs": [
    {
     "data": {
      "text/plain": [
       "[(0, 'Hadoop'),\n",
       " (0, 'Big Data'),\n",
       " (0, 'HBase'),\n",
       " (0, 'Java'),\n",
       " (0, 'Spark'),\n",
       " (0, 'Storm'),\n",
       " (0, 'Cassandra'),\n",
       " (1, 'NoSQL'),\n",
       " (1, 'MongoDB'),\n",
       " (1, 'Cassandra'),\n",
       " (1, 'HBase'),\n",
       " (1, 'Postgres'),\n",
       " (2, 'Python'),\n",
       " (2, 'scikit-learn'),\n",
       " (2, 'scipy'),\n",
       " (2, 'numpy'),\n",
       " (2, 'statsmodels'),\n",
       " (2, 'pandas'),\n",
       " (3, 'R'),\n",
       " (3, 'Python'),\n",
       " (3, 'statistics'),\n",
       " (3, 'regression'),\n",
       " (3, 'probability'),\n",
       " (4, 'machine learning'),\n",
       " (4, 'regression'),\n",
       " (4, 'decision trees'),\n",
       " (4, 'libsvm'),\n",
       " (5, 'Python'),\n",
       " (5, 'R'),\n",
       " (5, 'Java'),\n",
       " (5, 'C++'),\n",
       " (5, 'Haskell'),\n",
       " (5, 'programming languages'),\n",
       " (6, 'statistics'),\n",
       " (6, 'probability'),\n",
       " (6, 'mathematics'),\n",
       " (6, 'theory'),\n",
       " (7, 'machine learning'),\n",
       " (7, 'scikit-learn'),\n",
       " (7, 'Mahout'),\n",
       " (7, 'neural networks'),\n",
       " (8, 'neural networks'),\n",
       " (8, 'deep learning'),\n",
       " (8, 'Big Data'),\n",
       " (8, 'artificial intelligence'),\n",
       " (9, 'Hadoop'),\n",
       " (9, 'Java'),\n",
       " (9, 'MapReduce'),\n",
       " (9, 'Big Data')]"
      ]
     },
     "execution_count": 44,
     "metadata": {},
     "output_type": "execute_result"
    }
   ],
   "source": [
    "interests"
   ]
  },
  {
   "cell_type": "code",
   "execution_count": 48,
   "id": "66593fc8",
   "metadata": {},
   "outputs": [
    {
     "data": {
      "text/plain": [
       "[('big', 3),\n",
       " ('data', 3),\n",
       " ('java', 3),\n",
       " ('python', 3),\n",
       " ('learning', 3),\n",
       " ('hadoop', 2),\n",
       " ('hbase', 2),\n",
       " ('cassandra', 2),\n",
       " ('scikit-learn', 2),\n",
       " ('r', 2),\n",
       " ('statistics', 2),\n",
       " ('regression', 2),\n",
       " ('probability', 2),\n",
       " ('machine', 2),\n",
       " ('neural', 2),\n",
       " ('networks', 2),\n",
       " ('spark', 1),\n",
       " ('storm', 1),\n",
       " ('nosql', 1),\n",
       " ('mongodb', 1),\n",
       " ('postgres', 1),\n",
       " ('scipy', 1),\n",
       " ('numpy', 1),\n",
       " ('statsmodels', 1),\n",
       " ('pandas', 1),\n",
       " ('decision', 1),\n",
       " ('trees', 1),\n",
       " ('libsvm', 1),\n",
       " ('c++', 1),\n",
       " ('haskell', 1),\n",
       " ('programming', 1),\n",
       " ('languages', 1),\n",
       " ('mathematics', 1),\n",
       " ('theory', 1),\n",
       " ('mahout', 1),\n",
       " ('deep', 1),\n",
       " ('artificial', 1),\n",
       " ('intelligence', 1),\n",
       " ('mapreduce', 1)]"
      ]
     },
     "execution_count": 48,
     "metadata": {},
     "output_type": "execute_result"
    }
   ],
   "source": [
    "'''Mostrar datos sobre los temas que más interesan a\n",
    "los usuarios encontrando los intereses más populares'''\n",
    "\n",
    "'''Una manera sencilla (aunque no especialmente apasionante) de encontrar\n",
    "los intereses más populares es contando las palabras:\n",
    "  1.  Ponemos en minúsculas todos los hobbies (ya que habrá usuarios que\n",
    "      los pongan en mayúscula y otros en minúscula).\n",
    "  2. Los dividimos en palabras.\n",
    "  3. Contamos los resultados.\n",
    "'''\n",
    "words_and_counts = Counter(word\n",
    "for user, interest in interests\n",
    "for word in interest.lower().split())\n",
    "words_and_counts.most_common()"
   ]
  },
  {
   "cell_type": "code",
   "execution_count": 49,
   "id": "4f4e2c8c",
   "metadata": {},
   "outputs": [
    {
     "name": "stdout",
     "output_type": "stream",
     "text": [
      "big 3\n",
      "data 3\n",
      "java 3\n",
      "python 3\n",
      "learning 3\n",
      "hadoop 2\n",
      "hbase 2\n",
      "cassandra 2\n",
      "scikit-learn 2\n",
      "r 2\n",
      "statistics 2\n",
      "regression 2\n",
      "probability 2\n",
      "machine 2\n",
      "neural 2\n",
      "networks 2\n",
      "mapreduce 1\n"
     ]
    }
   ],
   "source": [
    "for word, count in words_and_counts.most_common():\n",
    "  if count > 1:\n",
    "    print(word, count)\n",
    "\n",
    "print(word, count)"
   ]
  }
 ],
 "metadata": {
  "kernelspec": {
   "display_name": "Python 3",
   "language": "python",
   "name": "python3"
  },
  "language_info": {
   "codemirror_mode": {
    "name": "ipython",
    "version": 3
   },
   "file_extension": ".py",
   "mimetype": "text/x-python",
   "name": "python",
   "nbconvert_exporter": "python",
   "pygments_lexer": "ipython3",
   "version": "3.13.7"
  }
 },
 "nbformat": 4,
 "nbformat_minor": 5
}
